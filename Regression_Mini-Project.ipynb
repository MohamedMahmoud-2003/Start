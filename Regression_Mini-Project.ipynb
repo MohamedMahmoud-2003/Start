{
  "cells": [
    {
      "cell_type": "markdown",
      "id": "bbe7ff35",
      "metadata": {
        "id": "bbe7ff35"
      },
      "source": [
        "# Data Mining — Linear Regression — Mini-Project 1 (Energy Consumption)\n",
        "\n",
        "**Course:** [CSEN911] Data Mining (Winter 2025)  \n",
        "**Instructor:** Dr. Ayman Alserafi  \n",
        "**Due:** 24 October 2025, 11:59 PM\n",
        "\n",
        "**Dataset:** `energy_data.csv`  \n",
        "\n",
        "\n",
        "> **Instructions:** For every step, write your own explanations and justifications and visualization in the provided Markdown prompts.\n",
        "\n",
        "\n"
      ]
    },
    {
      "cell_type": "markdown",
      "id": "b086a153",
      "metadata": {
        "id": "b086a153"
      },
      "source": [
        "***Edit this cell with your name(s), tutorial number(s) and ID(s)***\n",
        "\n",
        "---\n",
        "\n",
        "Name:Mohamed Mahmoud\n",
        "\n",
        "ID: 58-9269\n",
        "\n",
        "Tutorial: T9\n",
        "\n",
        "---\n",
        "\n",
        "Name:Mostafa Sameh\n",
        "\n",
        "ID: 58-5623\n",
        "\n",
        "Tutorial: T9\n",
        "\n",
        "---\n"
      ]
    },
    {
      "cell_type": "markdown",
      "id": "da2958bb",
      "metadata": {
        "id": "da2958bb"
      },
      "source": [
        "The dataset contains building-level energy readings and contextual attributes.\n",
        "\n",
        "Each row represents a building observation. Columns include:\n",
        "\n",
        "<div style=\"font-size:20px;\">\n",
        "\n",
        "| **Column** | **Description** |\n",
        "|-------------|-----------------|\n",
        "| **Building_ID** | Unique identifier for each building record. Used to distinguish one building entry from another. |\n",
        "| **Building_Type** | Category describing the primary use of the building (e.g., Residential, Commercial, Industrial, Educational, etc.). |\n",
        "| **Governorate** | The administrative region (governorate) where the building is located (e.g., Cairo, Giza, Alexandria). |\n",
        "| **Neighborhood** | The smaller district or local area within the governorate where the building is located. |\n",
        "| **Day_of_Week** | The day on which the energy consumption measurement was recorded (e.g., Sunday, Monday, etc.). |\n",
        "| **Occupancy_Level** | The relative number of occupants or activity level in the building, typically categorized as *Low*, *Medium*, or *High*. |\n",
        "| **Appliances_Usage_Level** | Indicates how intensively appliances are used in the building *Low*, *Medium*, or *High*. |\n",
        "| **SquareFootage** | The total floor area of the building (numeric). Serves as a proxy for building size, often influencing energy usage. |\n",
        "| **Last_Maintenance_Date** | The date of the last maintainance done on the building. |\n",
        "| **Average_Temperature** | The average ambient temperature (in °C) recorded during the data period. |\n",
        "| **Energy_Consumption** | The total energy used by the building, typically measured in kilowatt-hours (kWh).|\n",
        "\n",
        "</div>\n"
      ]
    },
    {
      "cell_type": "markdown",
      "id": "54979aed",
      "metadata": {
        "id": "54979aed"
      },
      "source": [
        "## Importing Libraries & Dataset"
      ]
    },
    {
      "cell_type": "code",
      "execution_count": 9,
      "id": "b5c14ccd",
      "metadata": {
        "id": "b5c14ccd",
        "outputId": "618d729a-9faa-4889-ffc6-74f53ced9b9c",
        "scrolled": true,
        "colab": {
          "base_uri": "https://localhost:8080/",
          "height": 206
        }
      },
      "outputs": [
        {
          "output_type": "execute_result",
          "data": {
            "text/plain": [
              "   Building_ID Building_Type Governorate    Neighborhood Day_of_Week  \\\n",
              "0  BLD-1000-UD   Residential  Alexandria          Smouha   WeDnesday   \n",
              "1  BLD-1001-AX    Commercial        Giza  +Mohandessin14     tuesDAY   \n",
              "2  BLD-1002-IH    Industrial       Cairo       New Cairo      SunDay   \n",
              "3  BLD-1003-HE           NaN         NaN        +92Dokki     TuesDay   \n",
              "4  BLD-1004-XD    Commercial  Alexandria          Smouha      Monday   \n",
              "\n",
              "  Occupancy_Level Appliances_Usage_Level SquareFootage Last_Maintenance_Date  \\\n",
              "0            High                    Low        7063m2            2020-01-01   \n",
              "1            High                   High       44372m2            2022-02-24   \n",
              "2          Medium                    Low         19255            2021-02-22   \n",
              "3             Low                   High         13265            2023-07-30   \n",
              "4             Low                    Low         13375            2022-08-12   \n",
              "\n",
              "   Average_Temperature Energy_Consumption  \n",
              "0                28.61        2713.95 kWh  \n",
              "1                  NaN        5744.99 kWh  \n",
              "2                37.88        4101.24 kWh  \n",
              "3                35.06        3009.14 kWh  \n",
              "4                28.82        3279.17 kWh  "
            ],
            "text/html": [
              "\n",
              "  <div id=\"df-e0c0dbb6-40de-4609-b40a-0c06d1b4dc2f\" class=\"colab-df-container\">\n",
              "    <div>\n",
              "<style scoped>\n",
              "    .dataframe tbody tr th:only-of-type {\n",
              "        vertical-align: middle;\n",
              "    }\n",
              "\n",
              "    .dataframe tbody tr th {\n",
              "        vertical-align: top;\n",
              "    }\n",
              "\n",
              "    .dataframe thead th {\n",
              "        text-align: right;\n",
              "    }\n",
              "</style>\n",
              "<table border=\"1\" class=\"dataframe\">\n",
              "  <thead>\n",
              "    <tr style=\"text-align: right;\">\n",
              "      <th></th>\n",
              "      <th>Building_ID</th>\n",
              "      <th>Building_Type</th>\n",
              "      <th>Governorate</th>\n",
              "      <th>Neighborhood</th>\n",
              "      <th>Day_of_Week</th>\n",
              "      <th>Occupancy_Level</th>\n",
              "      <th>Appliances_Usage_Level</th>\n",
              "      <th>SquareFootage</th>\n",
              "      <th>Last_Maintenance_Date</th>\n",
              "      <th>Average_Temperature</th>\n",
              "      <th>Energy_Consumption</th>\n",
              "    </tr>\n",
              "  </thead>\n",
              "  <tbody>\n",
              "    <tr>\n",
              "      <th>0</th>\n",
              "      <td>BLD-1000-UD</td>\n",
              "      <td>Residential</td>\n",
              "      <td>Alexandria</td>\n",
              "      <td>Smouha</td>\n",
              "      <td>WeDnesday</td>\n",
              "      <td>High</td>\n",
              "      <td>Low</td>\n",
              "      <td>7063m2</td>\n",
              "      <td>2020-01-01</td>\n",
              "      <td>28.61</td>\n",
              "      <td>2713.95 kWh</td>\n",
              "    </tr>\n",
              "    <tr>\n",
              "      <th>1</th>\n",
              "      <td>BLD-1001-AX</td>\n",
              "      <td>Commercial</td>\n",
              "      <td>Giza</td>\n",
              "      <td>+Mohandessin14</td>\n",
              "      <td>tuesDAY</td>\n",
              "      <td>High</td>\n",
              "      <td>High</td>\n",
              "      <td>44372m2</td>\n",
              "      <td>2022-02-24</td>\n",
              "      <td>NaN</td>\n",
              "      <td>5744.99 kWh</td>\n",
              "    </tr>\n",
              "    <tr>\n",
              "      <th>2</th>\n",
              "      <td>BLD-1002-IH</td>\n",
              "      <td>Industrial</td>\n",
              "      <td>Cairo</td>\n",
              "      <td>New Cairo</td>\n",
              "      <td>SunDay</td>\n",
              "      <td>Medium</td>\n",
              "      <td>Low</td>\n",
              "      <td>19255</td>\n",
              "      <td>2021-02-22</td>\n",
              "      <td>37.88</td>\n",
              "      <td>4101.24 kWh</td>\n",
              "    </tr>\n",
              "    <tr>\n",
              "      <th>3</th>\n",
              "      <td>BLD-1003-HE</td>\n",
              "      <td>NaN</td>\n",
              "      <td>NaN</td>\n",
              "      <td>+92Dokki</td>\n",
              "      <td>TuesDay</td>\n",
              "      <td>Low</td>\n",
              "      <td>High</td>\n",
              "      <td>13265</td>\n",
              "      <td>2023-07-30</td>\n",
              "      <td>35.06</td>\n",
              "      <td>3009.14 kWh</td>\n",
              "    </tr>\n",
              "    <tr>\n",
              "      <th>4</th>\n",
              "      <td>BLD-1004-XD</td>\n",
              "      <td>Commercial</td>\n",
              "      <td>Alexandria</td>\n",
              "      <td>Smouha</td>\n",
              "      <td>Monday</td>\n",
              "      <td>Low</td>\n",
              "      <td>Low</td>\n",
              "      <td>13375</td>\n",
              "      <td>2022-08-12</td>\n",
              "      <td>28.82</td>\n",
              "      <td>3279.17 kWh</td>\n",
              "    </tr>\n",
              "  </tbody>\n",
              "</table>\n",
              "</div>\n",
              "    <div class=\"colab-df-buttons\">\n",
              "\n",
              "  <div class=\"colab-df-container\">\n",
              "    <button class=\"colab-df-convert\" onclick=\"convertToInteractive('df-e0c0dbb6-40de-4609-b40a-0c06d1b4dc2f')\"\n",
              "            title=\"Convert this dataframe to an interactive table.\"\n",
              "            style=\"display:none;\">\n",
              "\n",
              "  <svg xmlns=\"http://www.w3.org/2000/svg\" height=\"24px\" viewBox=\"0 -960 960 960\">\n",
              "    <path d=\"M120-120v-720h720v720H120Zm60-500h600v-160H180v160Zm220 220h160v-160H400v160Zm0 220h160v-160H400v160ZM180-400h160v-160H180v160Zm440 0h160v-160H620v160ZM180-180h160v-160H180v160Zm440 0h160v-160H620v160Z\"/>\n",
              "  </svg>\n",
              "    </button>\n",
              "\n",
              "  <style>\n",
              "    .colab-df-container {\n",
              "      display:flex;\n",
              "      gap: 12px;\n",
              "    }\n",
              "\n",
              "    .colab-df-convert {\n",
              "      background-color: #E8F0FE;\n",
              "      border: none;\n",
              "      border-radius: 50%;\n",
              "      cursor: pointer;\n",
              "      display: none;\n",
              "      fill: #1967D2;\n",
              "      height: 32px;\n",
              "      padding: 0 0 0 0;\n",
              "      width: 32px;\n",
              "    }\n",
              "\n",
              "    .colab-df-convert:hover {\n",
              "      background-color: #E2EBFA;\n",
              "      box-shadow: 0px 1px 2px rgba(60, 64, 67, 0.3), 0px 1px 3px 1px rgba(60, 64, 67, 0.15);\n",
              "      fill: #174EA6;\n",
              "    }\n",
              "\n",
              "    .colab-df-buttons div {\n",
              "      margin-bottom: 4px;\n",
              "    }\n",
              "\n",
              "    [theme=dark] .colab-df-convert {\n",
              "      background-color: #3B4455;\n",
              "      fill: #D2E3FC;\n",
              "    }\n",
              "\n",
              "    [theme=dark] .colab-df-convert:hover {\n",
              "      background-color: #434B5C;\n",
              "      box-shadow: 0px 1px 3px 1px rgba(0, 0, 0, 0.15);\n",
              "      filter: drop-shadow(0px 1px 2px rgba(0, 0, 0, 0.3));\n",
              "      fill: #FFFFFF;\n",
              "    }\n",
              "  </style>\n",
              "\n",
              "    <script>\n",
              "      const buttonEl =\n",
              "        document.querySelector('#df-e0c0dbb6-40de-4609-b40a-0c06d1b4dc2f button.colab-df-convert');\n",
              "      buttonEl.style.display =\n",
              "        google.colab.kernel.accessAllowed ? 'block' : 'none';\n",
              "\n",
              "      async function convertToInteractive(key) {\n",
              "        const element = document.querySelector('#df-e0c0dbb6-40de-4609-b40a-0c06d1b4dc2f');\n",
              "        const dataTable =\n",
              "          await google.colab.kernel.invokeFunction('convertToInteractive',\n",
              "                                                    [key], {});\n",
              "        if (!dataTable) return;\n",
              "\n",
              "        const docLinkHtml = 'Like what you see? Visit the ' +\n",
              "          '<a target=\"_blank\" href=https://colab.research.google.com/notebooks/data_table.ipynb>data table notebook</a>'\n",
              "          + ' to learn more about interactive tables.';\n",
              "        element.innerHTML = '';\n",
              "        dataTable['output_type'] = 'display_data';\n",
              "        await google.colab.output.renderOutput(dataTable, element);\n",
              "        const docLink = document.createElement('div');\n",
              "        docLink.innerHTML = docLinkHtml;\n",
              "        element.appendChild(docLink);\n",
              "      }\n",
              "    </script>\n",
              "  </div>\n",
              "\n",
              "\n",
              "    <div id=\"df-6faef51a-63e3-4984-9351-f82fcabab765\">\n",
              "      <button class=\"colab-df-quickchart\" onclick=\"quickchart('df-6faef51a-63e3-4984-9351-f82fcabab765')\"\n",
              "                title=\"Suggest charts\"\n",
              "                style=\"display:none;\">\n",
              "\n",
              "<svg xmlns=\"http://www.w3.org/2000/svg\" height=\"24px\"viewBox=\"0 0 24 24\"\n",
              "     width=\"24px\">\n",
              "    <g>\n",
              "        <path d=\"M19 3H5c-1.1 0-2 .9-2 2v14c0 1.1.9 2 2 2h14c1.1 0 2-.9 2-2V5c0-1.1-.9-2-2-2zM9 17H7v-7h2v7zm4 0h-2V7h2v10zm4 0h-2v-4h2v4z\"/>\n",
              "    </g>\n",
              "</svg>\n",
              "      </button>\n",
              "\n",
              "<style>\n",
              "  .colab-df-quickchart {\n",
              "      --bg-color: #E8F0FE;\n",
              "      --fill-color: #1967D2;\n",
              "      --hover-bg-color: #E2EBFA;\n",
              "      --hover-fill-color: #174EA6;\n",
              "      --disabled-fill-color: #AAA;\n",
              "      --disabled-bg-color: #DDD;\n",
              "  }\n",
              "\n",
              "  [theme=dark] .colab-df-quickchart {\n",
              "      --bg-color: #3B4455;\n",
              "      --fill-color: #D2E3FC;\n",
              "      --hover-bg-color: #434B5C;\n",
              "      --hover-fill-color: #FFFFFF;\n",
              "      --disabled-bg-color: #3B4455;\n",
              "      --disabled-fill-color: #666;\n",
              "  }\n",
              "\n",
              "  .colab-df-quickchart {\n",
              "    background-color: var(--bg-color);\n",
              "    border: none;\n",
              "    border-radius: 50%;\n",
              "    cursor: pointer;\n",
              "    display: none;\n",
              "    fill: var(--fill-color);\n",
              "    height: 32px;\n",
              "    padding: 0;\n",
              "    width: 32px;\n",
              "  }\n",
              "\n",
              "  .colab-df-quickchart:hover {\n",
              "    background-color: var(--hover-bg-color);\n",
              "    box-shadow: 0 1px 2px rgba(60, 64, 67, 0.3), 0 1px 3px 1px rgba(60, 64, 67, 0.15);\n",
              "    fill: var(--button-hover-fill-color);\n",
              "  }\n",
              "\n",
              "  .colab-df-quickchart-complete:disabled,\n",
              "  .colab-df-quickchart-complete:disabled:hover {\n",
              "    background-color: var(--disabled-bg-color);\n",
              "    fill: var(--disabled-fill-color);\n",
              "    box-shadow: none;\n",
              "  }\n",
              "\n",
              "  .colab-df-spinner {\n",
              "    border: 2px solid var(--fill-color);\n",
              "    border-color: transparent;\n",
              "    border-bottom-color: var(--fill-color);\n",
              "    animation:\n",
              "      spin 1s steps(1) infinite;\n",
              "  }\n",
              "\n",
              "  @keyframes spin {\n",
              "    0% {\n",
              "      border-color: transparent;\n",
              "      border-bottom-color: var(--fill-color);\n",
              "      border-left-color: var(--fill-color);\n",
              "    }\n",
              "    20% {\n",
              "      border-color: transparent;\n",
              "      border-left-color: var(--fill-color);\n",
              "      border-top-color: var(--fill-color);\n",
              "    }\n",
              "    30% {\n",
              "      border-color: transparent;\n",
              "      border-left-color: var(--fill-color);\n",
              "      border-top-color: var(--fill-color);\n",
              "      border-right-color: var(--fill-color);\n",
              "    }\n",
              "    40% {\n",
              "      border-color: transparent;\n",
              "      border-right-color: var(--fill-color);\n",
              "      border-top-color: var(--fill-color);\n",
              "    }\n",
              "    60% {\n",
              "      border-color: transparent;\n",
              "      border-right-color: var(--fill-color);\n",
              "    }\n",
              "    80% {\n",
              "      border-color: transparent;\n",
              "      border-right-color: var(--fill-color);\n",
              "      border-bottom-color: var(--fill-color);\n",
              "    }\n",
              "    90% {\n",
              "      border-color: transparent;\n",
              "      border-bottom-color: var(--fill-color);\n",
              "    }\n",
              "  }\n",
              "</style>\n",
              "\n",
              "      <script>\n",
              "        async function quickchart(key) {\n",
              "          const quickchartButtonEl =\n",
              "            document.querySelector('#' + key + ' button');\n",
              "          quickchartButtonEl.disabled = true;  // To prevent multiple clicks.\n",
              "          quickchartButtonEl.classList.add('colab-df-spinner');\n",
              "          try {\n",
              "            const charts = await google.colab.kernel.invokeFunction(\n",
              "                'suggestCharts', [key], {});\n",
              "          } catch (error) {\n",
              "            console.error('Error during call to suggestCharts:', error);\n",
              "          }\n",
              "          quickchartButtonEl.classList.remove('colab-df-spinner');\n",
              "          quickchartButtonEl.classList.add('colab-df-quickchart-complete');\n",
              "        }\n",
              "        (() => {\n",
              "          let quickchartButtonEl =\n",
              "            document.querySelector('#df-6faef51a-63e3-4984-9351-f82fcabab765 button');\n",
              "          quickchartButtonEl.style.display =\n",
              "            google.colab.kernel.accessAllowed ? 'block' : 'none';\n",
              "        })();\n",
              "      </script>\n",
              "    </div>\n",
              "\n",
              "    </div>\n",
              "  </div>\n"
            ],
            "application/vnd.google.colaboratory.intrinsic+json": {
              "type": "dataframe",
              "variable_name": "df",
              "summary": "{\n  \"name\": \"df\",\n  \"rows\": 1100,\n  \"fields\": [\n    {\n      \"column\": \"Building_ID\",\n      \"properties\": {\n        \"dtype\": \"string\",\n        \"num_unique_values\": 1100,\n        \"samples\": [\n          \"BLD-1328-VC\",\n          \"BLD-1688-MK\",\n          \"BLD-1413-KG\"\n        ],\n        \"semantic_type\": \"\",\n        \"description\": \"\"\n      }\n    },\n    {\n      \"column\": \"Building_Type\",\n      \"properties\": {\n        \"dtype\": \"category\",\n        \"num_unique_values\": 3,\n        \"samples\": [\n          \"Residential\",\n          \"Commercial\",\n          \"Industrial\"\n        ],\n        \"semantic_type\": \"\",\n        \"description\": \"\"\n      }\n    },\n    {\n      \"column\": \"Governorate\",\n      \"properties\": {\n        \"dtype\": \"category\",\n        \"num_unique_values\": 3,\n        \"samples\": [\n          \"Alexandria\",\n          \"Giza\",\n          \"Cairo\"\n        ],\n        \"semantic_type\": \"\",\n        \"description\": \"\"\n      }\n    },\n    {\n      \"column\": \"Neighborhood\",\n      \"properties\": {\n        \"dtype\": \"string\",\n        \"num_unique_values\": 848,\n        \"samples\": [\n          \"!Gleem22\",\n          \"New Cairo-6\",\n          \"Mohandessin#6\"\n        ],\n        \"semantic_type\": \"\",\n        \"description\": \"\"\n      }\n    },\n    {\n      \"column\": \"Day_of_Week\",\n      \"properties\": {\n        \"dtype\": \"category\",\n        \"num_unique_values\": 42,\n        \"samples\": [\n          \"Thursday\",\n          \"SuNday\",\n          \"SUNDAY\"\n        ],\n        \"semantic_type\": \"\",\n        \"description\": \"\"\n      }\n    },\n    {\n      \"column\": \"Occupancy_Level\",\n      \"properties\": {\n        \"dtype\": \"category\",\n        \"num_unique_values\": 3,\n        \"samples\": [\n          \"High\",\n          \"Medium\",\n          \"Low\"\n        ],\n        \"semantic_type\": \"\",\n        \"description\": \"\"\n      }\n    },\n    {\n      \"column\": \"Appliances_Usage_Level\",\n      \"properties\": {\n        \"dtype\": \"category\",\n        \"num_unique_values\": 3,\n        \"samples\": [\n          \"Low\",\n          \"High\",\n          \"Medium\"\n        ],\n        \"semantic_type\": \"\",\n        \"description\": \"\"\n      }\n    },\n    {\n      \"column\": \"SquareFootage\",\n      \"properties\": {\n        \"dtype\": \"string\",\n        \"num_unique_values\": 1095,\n        \"samples\": [\n          \"29552m2\",\n          \"29878m2\",\n          \"6654\"\n        ],\n        \"semantic_type\": \"\",\n        \"description\": \"\"\n      }\n    },\n    {\n      \"column\": \"Last_Maintenance_Date\",\n      \"properties\": {\n        \"dtype\": \"object\",\n        \"num_unique_values\": 727,\n        \"samples\": [\n          \"2023-04-09\",\n          \"2022-02-02\",\n          \"2023-09-14\"\n        ],\n        \"semantic_type\": \"\",\n        \"description\": \"\"\n      }\n    },\n    {\n      \"column\": \"Average_Temperature\",\n      \"properties\": {\n        \"dtype\": \"number\",\n        \"std\": 10.703805516085001,\n        \"min\": -4.91,\n        \"max\": 50.0,\n        \"num_unique_values\": 796,\n        \"samples\": [\n          21.92,\n          34.93,\n          24.59\n        ],\n        \"semantic_type\": \"\",\n        \"description\": \"\"\n      }\n    },\n    {\n      \"column\": \"Energy_Consumption\",\n      \"properties\": {\n        \"dtype\": \"string\",\n        \"num_unique_values\": 1100,\n        \"samples\": [\n          \"3708.08 kWh\",\n          \"3372.2 kWh\",\n          \"5023.85 kWh\"\n        ],\n        \"semantic_type\": \"\",\n        \"description\": \"\"\n      }\n    }\n  ]\n}"
            }
          },
          "metadata": {},
          "execution_count": 9
        }
      ],
      "source": [
        "import pandas as pd\n",
        "import numpy as np\n",
        "import matplotlib.pyplot as plt\n",
        "import seaborn as sns\n",
        "\n",
        "try:\n",
        "    df = pd.read_csv('energy_data.csv')\n",
        "except:\n",
        "    df = pd.read_csv('https://raw.githubusercontent.com/GUC-DM/W2025/refs/heads/main/data/energy_data.csv')\n",
        "\n",
        "df.head()"
      ]
    },
    {
      "cell_type": "markdown",
      "id": "139e67c5",
      "metadata": {
        "id": "139e67c5"
      },
      "source": [
        "## Data Inspection\n",
        "\n",
        "Perform data inspection tasks here (recommended for data understanding)."
      ]
    },
    {
      "cell_type": "markdown",
      "source": [
        "Here I checked the numbers in the dataset to understand how they look. I can see the minimum, maximum,average, and how the values are spread. This helps me know if the numbers are normal or if there might be strange values."
      ],
      "metadata": {
        "id": "V7t_rvTTaf0y"
      },
      "id": "V7t_rvTTaf0y"
    },
    {
      "cell_type": "code",
      "source": [
        "print(\"\\n=== Describe (Numerical) ===\")\n",
        "print(df.describe())"
      ],
      "metadata": {
        "id": "O_OUGntnXhou",
        "outputId": "c22cccf9-1725-4470-d0ec-9dfe6943c409",
        "colab": {
          "base_uri": "https://localhost:8080/"
        }
      },
      "id": "O_OUGntnXhou",
      "execution_count": 6,
      "outputs": [
        {
          "output_type": "stream",
          "name": "stdout",
          "text": [
            "\n",
            "=== Describe (Numerical) ===\n",
            "       Average_Temperature\n",
            "count           990.000000\n",
            "mean             33.499404\n",
            "std              10.703806\n",
            "min              -4.910000\n",
            "25%              29.422500\n",
            "50%              35.260000\n",
            "75%              39.970000\n",
            "max              50.000000\n"
          ]
        }
      ]
    },
    {
      "cell_type": "markdown",
      "source": [
        "Here I looked at the text columns to see what values are common.  \n",
        "It shows me which category appears the most and if there are empty or repeated values.  \n",
        "This helps me understand the text data better.\n"
      ],
      "metadata": {
        "id": "xnHNMVHBaqt3"
      },
      "id": "xnHNMVHBaqt3"
    },
    {
      "cell_type": "code",
      "source": [
        "print(\"\\n=== Describe (Categorical) ===\")\n",
        "print(df.describe(include='object'))"
      ],
      "metadata": {
        "colab": {
          "base_uri": "https://localhost:8080/"
        },
        "id": "T9O17PdiVxa-",
        "outputId": "508756a2-8905-4d81-c1e5-c0a6c186a3da"
      },
      "id": "T9O17PdiVxa-",
      "execution_count": 7,
      "outputs": [
        {
          "output_type": "stream",
          "name": "stdout",
          "text": [
            "\n",
            "=== Describe (Categorical) ===\n",
            "        Building_ID Building_Type Governorate Neighborhood Day_of_Week  \\\n",
            "count          1100           990         873         1100        1100   \n",
            "unique         1100             3           3          848          42   \n",
            "top     BLD-2099-GL   Residential  Alexandria       Smouha      Sunday   \n",
            "freq              1           349         310           45          54   \n",
            "\n",
            "       Occupancy_Level Appliances_Usage_Level SquareFootage  \\\n",
            "count             1100                   1100          1100   \n",
            "unique               3                      3          1095   \n",
            "top               High                    Low       49653m2   \n",
            "freq               368                    381             2   \n",
            "\n",
            "       Last_Maintenance_Date Energy_Consumption  \n",
            "count                   1100               1100  \n",
            "unique                   727               1100  \n",
            "top               2024-12-31        4722.59 kWh  \n",
            "freq                      89                  1  \n"
          ]
        }
      ]
    },
    {
      "cell_type": "markdown",
      "source": [
        "Here I checked how many missing values are in each column.  \n",
        "I found that some columns have empty data.  \n",
        "This means I will need to clean and fill them in the next step.\n"
      ],
      "metadata": {
        "id": "nKqKqQOTcm-O"
      },
      "id": "nKqKqQOTcm-O"
    },
    {
      "cell_type": "code",
      "execution_count": 13,
      "id": "88d7f45a",
      "metadata": {
        "id": "88d7f45a",
        "colab": {
          "base_uri": "https://localhost:8080/"
        },
        "outputId": "fb4f67e3-6d76-4414-d8a2-051f4c6661b5"
      },
      "outputs": [
        {
          "output_type": "stream",
          "name": "stdout",
          "text": [
            "\n",
            "=== Missing Values ===\n",
            "Building_ID                 0\n",
            "Building_Type             110\n",
            "Governorate               227\n",
            "Neighborhood                0\n",
            "Day_of_Week                 0\n",
            "Occupancy_Level             0\n",
            "Appliances_Usage_Level      0\n",
            "SquareFootage               0\n",
            "Last_Maintenance_Date       0\n",
            "Average_Temperature       110\n",
            "Energy_Consumption          0\n",
            "dtype: int64\n"
          ]
        }
      ],
      "source": [
        "print(\"\\n=== Missing Values ===\")\n",
        "print(df.isna().sum())"
      ]
    },
    {
      "cell_type": "markdown",
      "source": [
        "Here I looked at all the unique values in the text columns.  \n",
        "I noticed that some values are written in different ways and some have symbols or numbers.  \n",
        "I will clean these to make them clear and consistent.\n"
      ],
      "metadata": {
        "id": "0pH0pN0PctWa"
      },
      "id": "0pH0pN0PctWa"
    },
    {
      "cell_type": "code",
      "source": [
        " cat_cols = ['Building_Type', 'Governorate', 'Neighborhood',\n",
        "            'Day_of_Week', 'Occupancy_Level', 'Appliances_Usage_Level']\n",
        "\n",
        "for col in cat_cols:\n",
        "    print(f\"\\nUnique values in {col}:\")\n",
        "    print(df[col].unique())"
      ],
      "metadata": {
        "id": "zNTPZ_WVYnv9",
        "outputId": "58e45f1a-9bfc-4826-f393-39ae8b68ff8e",
        "colab": {
          "base_uri": "https://localhost:8080/"
        }
      },
      "id": "zNTPZ_WVYnv9",
      "execution_count": 17,
      "outputs": [
        {
          "output_type": "stream",
          "name": "stdout",
          "text": [
            "\n",
            "Unique values in Building_Type:\n",
            "['Residential' 'Commercial' 'Industrial' nan]\n",
            "\n",
            "Unique values in Governorate:\n",
            "['Alexandria' 'Giza' 'Cairo' nan]\n",
            "\n",
            "Unique values in Neighborhood:\n",
            "['Smouha' '+Mohandessin14' 'New Cairo' '+92Dokki' '%9New Cairo'\n",
            " 'Heliopolis_59' 'Gleem(23' '=Mohandessin10' '*36Smouha' 'Heliopolis$34'\n",
            " '-92Mohandessin' '(75Mohandessin' ')Gleem25' ')Maadi19' '*34Heliopolis'\n",
            " 'Gleem_8' ')84Smouha' '-42Gleem' 'Dokki' '*Mohandessin93' 'New Cairo$29'\n",
            " '=Smouha43' 'Mohandessin' '-86Heliopolis' 'Smouha^21' '$11Smouha'\n",
            " ')35Mohandessin' 'Maadi@45' '_Gleem84' 'Gleem' '*3Heliopolis' 'Smouha#34'\n",
            " ')Gleem16' '%95Gleem' 'Heliopolis' '$Gleem6' 'New Cairo=38' '%Gleem6'\n",
            " '_6Gleem' '*39New Cairo' 'Mohandessin=88' 'New Cairo)93' '%23Maadi'\n",
            " '+Heliopolis29' '+New Cairo9' 'Heliopolis$17' ')Mohandessin21' '*98Gleem'\n",
            " 'Heliopolis-35' '%Dokki5' '-Smouha37' '*50New Cairo' 'Smouha@75'\n",
            " '#67Maadi' ')20New Cairo' 'Maadi#72' 'New Cairo)94' '&98Smouha'\n",
            " '&15Gleem' 'Maadi' 'Mohandessin=35' 'Heliopolis_93' 'Mohandessin!22'\n",
            " '_New Cairo36' 'Maadi!56' 'Smouha-74' '(Heliopolis86' '=88Smouha'\n",
            " '#66Gleem' 'New Cairo#9' 'Mohandessin&41' '_Dokki6' '#7Mohandessin'\n",
            " ')New Cairo64' 'Gleem-47' '=39Heliopolis' 'New Cairo*25' '*Mohandessin13'\n",
            " 'Dokki+37' '*48Dokki' '-Smouha80' ')Smouha63' '(Maadi97' '_53New Cairo'\n",
            " '$Heliopolis33' 'Dokki_13' 'Dokki)30' 'Mohandessin)45' '_Maadi53'\n",
            " '$78Heliopolis' ')67Smouha' '%73Mohandessin' 'Gleem_11' 'Smouha%43'\n",
            " '!71Smouha' ')62New Cairo' '#New Cairo12' '#27Heliopolis' 'Dokki@22'\n",
            " '_55Dokki' '=Dokki45' '#Gleem63' '@Maadi96' '_47Heliopolis'\n",
            " 'Mohandessin+88' 'Smouha@64' 'Smouha@32' 'Maadi&92' 'Heliopolis%44'\n",
            " 'Heliopolis%7' 'Mohandessin#6' 'Dokki)66' 'Dokki#79' '+New Cairo15'\n",
            " 'Gleem*99' '^Dokki6' 'Gleem%46' 'Heliopolis^30' '+14New Cairo' '%Dokki49'\n",
            " '$Gleem67' 'Heliopolis!11' '@Heliopolis16' '!Smouha85' '$Heliopolis89'\n",
            " 'Dokki@41' '=32New Cairo' ')Dokki10' '_Mohandessin85' '(Gleem53'\n",
            " ')Gleem47' '%49New Cairo' '_0Smouha' ')Dokki53' '@64Heliopolis'\n",
            " '-69Dokki' 'Dokki=16' '*Gleem22' '(32New Cairo' '#Smouha63' 'Smouha(29'\n",
            " '$Mohandessin56' '_Mohandessin55' '@Dokki15' '_Dokki21' ')56Mohandessin'\n",
            " '#Dokki65' '$45Gleem' '=Smouha47' '!28Gleem' 'New Cairo#28'\n",
            " 'New Cairo+33' '$Gleem72' 'Smouha(76' '+Smouha88' 'Dokki=77'\n",
            " '=73Mohandessin' '-Dokki12' '%Heliopolis86' '#35Smouha' ')41Smouha'\n",
            " '-Dokki79' '#Gleem83' '@94Heliopolis' '+New Cairo31' '@Gleem80'\n",
            " 'Dokki+14' 'Gleem-99' 'Smouha!20' '-Mohandessin86' 'Dokki)97' '!64Maadi'\n",
            " '_Maadi57' '_Gleem94' '(92Gleem' '+67Heliopolis' '=Mohandessin71'\n",
            " 'Gleem+43' '+68Dokki' 'Gleem@60' '=New Cairo22' 'Smouha(78' 'New Cairo*1'\n",
            " '@Mohandessin98' 'Dokki_16' '+90Maadi' '^Mohandessin68' '%46Maadi'\n",
            " '=Gleem74' '=Heliopolis26' '$Dokki96' '(Dokki74' '@49Maadi' '$Maadi38'\n",
            " ')80Mohandessin' '*22Gleem' '&Heliopolis99' 'Dokki!3' '!40Mohandessin'\n",
            " '$54Maadi' 'Mohandessin^59' '-New Cairo95' '&13Dokki' 'Mohandessin)21'\n",
            " '$Dokki56' 'Gleem%32' '%3New Cairo' '%38Smouha' '_Dokki83' '&Gleem68'\n",
            " '=Smouha42' 'Gleem-20' 'Dokki@23' 'Dokki+48' ')75Gleem' '+1Smouha'\n",
            " '_Dokki62' 'Gleem(10' '&76Mohandessin' '^Heliopolis1' '(Dokki35'\n",
            " 'Mohandessin*1' '_9Heliopolis' '^45Dokki' 'Smouha&38' '^Maadi69'\n",
            " 'Maadi+1' '_34Smouha' '_43New Cairo' '=Gleem9' '&Dokki70'\n",
            " '_Mohandessin22' 'Dokki!94' '(9Gleem' '(64Heliopolis' 'Dokki#66'\n",
            " '$Dokki84' '&52Mohandessin' 'Smouha&13' '&2New Cairo' '=New Cairo79'\n",
            " '&40Dokki' '%58Smouha' 'Maadi@3' 'Smouha=2' '_99Mohandessin' '%8Dokki'\n",
            " 'Smouha$67' '!79Dokki' '!Maadi56' 'Gleem(17' '@Gleem39' '%93Dokki'\n",
            " '*72Smouha' 'Maadi*62' '!Smouha71' '%Mohandessin52' '(New Cairo16'\n",
            " '-New Cairo43' '=Smouha85' 'Mohandessin^13' '_Heliopolis5' '@20Smouha'\n",
            " ')Heliopolis27' '^35Heliopolis' 'Mohandessin&57' 'Dokki&0' '!Gleem14'\n",
            " '-22Smouha' '$Heliopolis76' 'Gleem$84' ')43Gleem' 'New Cairo$14'\n",
            " '-19Dokki' 'Maadi_95' '&Dokki21' 'Dokki*78' 'Heliopolis%43' '^Smouha0'\n",
            " '=60Smouha' '+2Heliopolis' 'Dokki%10' ')72Dokki' '&71Mohandessin'\n",
            " '%51New Cairo' 'New Cairo&9' '+89Gleem' '_32Heliopolis' 'Dokki*37'\n",
            " '&Mohandessin77' 'Dokki-54' '_New Cairo91' '@New Cairo65'\n",
            " '*Mohandessin89' '%Smouha42' '+Maadi7' '^Dokki97' '=59Dokki' '+79Smouha'\n",
            " '&9Gleem' 'Mohandessin+86' '!Gleem89' '+58New Cairo' 'Gleem#17'\n",
            " '%Mohandessin22' '(Mohandessin96' '=19Heliopolis' 'Dokki(45' '^Smouha86'\n",
            " 'New Cairo!29' 'Gleem%72' 'Gleem^34' '_Smouha80' '%Smouha94'\n",
            " 'Mohandessin=8' 'Smouha-58' '^New Cairo30' '&Heliopolis16' 'New Cairo&45'\n",
            " '&31Smouha' '$Smouha48' '_Mohandessin86' '@Smouha18' '*87Dokki'\n",
            " 'Dokki$65' '#Gleem25' 'Heliopolis*69' 'Smouha(25' 'Smouha_55' '(10Maadi'\n",
            " 'Heliopolis#29' 'Smouha=66' '&2Mohandessin' '+95Gleem' '@64Dokki'\n",
            " 'Smouha)44' 'Maadi@20' 'Mohandessin^44' '(79Maadi' 'Gleem=75'\n",
            " 'New Cairo@44' '(Smouha38' ')40Smouha' 'Smouha(15' '(12Smouha'\n",
            " 'New Cairo@0' '^Heliopolis35' 'Gleem#74' '%72Gleem' '(96Smouha'\n",
            " '$Mohandessin12' '-Gleem30' '!Mohandessin6' '!51New Cairo' 'Maadi*11'\n",
            " '@49New Cairo' '^84Gleem' '(Smouha80' ')46Smouha' 'Maadi&67' '_Smouha25'\n",
            " 'Smouha_86' '!Gleem11' 'New Cairo-6' '#Mohandessin71' 'New Cairo=84'\n",
            " '^Dokki68' 'Maadi$75' '(Smouha55' 'Mohandessin_48' 'Gleem)74' '*Maadi88'\n",
            " 'Gleem#88' 'Mohandessin_3' '&Mohandessin8' 'Gleem@33' '$98Dokki'\n",
            " ')31Dokki' '(25Heliopolis' '-Maadi29' 'Mohandessin-67' '=Smouha11'\n",
            " 'Dokki+1' '+96Heliopolis' '%Dokki85' '@Mohandessin30' ')83Dokki'\n",
            " '&Heliopolis47' ')21Gleem' 'Gleem@28' 'Mohandessin@53' '^41Heliopolis'\n",
            " '#Dokki60' '$3Smouha' 'Mohandessin+62' '+26Smouha' 'Smouha#92'\n",
            " '(43Mohandessin' 'Gleem%33' '=6Smouha' 'Mohandessin=5' '!91Dokki'\n",
            " '$12Maadi' '!0Smouha' '@Mohandessin65' 'Heliopolis@30' '_Mohandessin24'\n",
            " '_33Maadi' '-New Cairo89' '&New Cairo36' 'Gleem_95' 'Dokki+66'\n",
            " 'Smouha)81' '@70Maadi' '&1Dokki' '$89Dokki' '#Gleem92' '(45Smouha'\n",
            " '+3Gleem' 'Smouha(32' 'Maadi*28' 'Mohandessin(32' 'Gleem+58' '$Maadi75'\n",
            " '+New Cairo77' 'Dokki%26' '#Gleem12' ')Smouha30' ')Smouha79' 'Smouha&75'\n",
            " 'New Cairo$48' 'New Cairo)52' ')37Gleem' '_92Mohandessin' 'Maadi!87'\n",
            " 'Dokki*36' '%Dokki89' 'Heliopolis*6' '%Dokki53' 'Dokki!95' '(96Maadi'\n",
            " ')5Maadi' '-Maadi99' '=Smouha17' '=32Smouha' '$Maadi0' '!16New Cairo'\n",
            " '=15New Cairo' ')Dokki61' '+Mohandessin6' 'Heliopolis(21' '@Gleem40'\n",
            " '#84Smouha' 'Mohandessin+30' 'Maadi$83' '(95Maadi' '$Dokki91' 'Maadi-80'\n",
            " ')Dokki78' ')Mohandessin66' '(Mohandessin19' 'New Cairo#90' 'Gleem+48'\n",
            " '!Gleem86' '&Smouha51' '+43Gleem' ')Mohandessin3' '+Maadi0'\n",
            " '_New Cairo46' '-New Cairo71' '&28Smouha' '(31Gleem' 'Maadi=38'\n",
            " 'Mohandessin*19' '_61Mohandessin' 'Smouha-95' '^9Dokki' 'Smouha@96'\n",
            " '+33Maadi' '%New Cairo45' 'Heliopolis)70' '-52New Cairo' '%0Mohandessin'\n",
            " '^55Dokki' '_15Maadi' ')Gleem28' '#Dokki50' '+Smouha66' 'Mohandessin@81'\n",
            " '^6Heliopolis' 'New Cairo)45' '^84Smouha' 'Gleem=29' 'Dokki+77'\n",
            " '@44Gleem' '-Maadi52' '^21Mohandessin' 'Heliopolis@4' 'New Cairo+60'\n",
            " '#Mohandessin41' '!0Gleem' '$80Gleem' 'Smouha#12' 'New Cairo%2'\n",
            " 'New Cairo-12' 'Smouha_47' '%Mohandessin44' ')Gleem48' '^2Dokki'\n",
            " 'Dokki*72' 'Dokki&51' 'Heliopolis%53' '&Heliopolis60' 'Mohandessin$79'\n",
            " '+70Dokki' 'Gleem(52' 'Gleem_90' 'Heliopolis_73' 'New Cairo!41'\n",
            " '#Dokki55' ')12Mohandessin' '&31Mohandessin' 'Maadi_46' '^2New Cairo'\n",
            " '&Dokki50' '$Smouha59' '!43Gleem' '=97Dokki' '%0Gleem' 'Dokki_57'\n",
            " '!98New Cairo' '@Mohandessin0' '%94Smouha' 'Heliopolis_41' '!75Gleem'\n",
            " '^Mohandessin35' '#95Smouha' '+67Gleem' 'Mohandessin_78' ')Mohandessin24'\n",
            " 'Gleem^57' '@81Mohandessin' 'Gleem*73' '$Dokki31' 'Smouha%72'\n",
            " '+Mohandessin70' '^2Heliopolis' 'Dokki_77' '#55New Cairo' '-Gleem13'\n",
            " '#73Gleem' '^Dokki50' '^59Gleem' 'Dokki+30' '(Heliopolis60' '!Dokki21'\n",
            " '+Dokki58' '=78Heliopolis' '$Gleem44' '(Mohandessin46' 'Gleem%7'\n",
            " 'New Cairo-44' '&80Smouha' ')Dokki33' ')New Cairo63' '!Dokki43'\n",
            " '(Heliopolis37' '%Smouha27' '(29Maadi' '_98New Cairo' '*71Heliopolis'\n",
            " ')New Cairo85' '#Gleem96' '%New Cairo43' '$Smouha23' 'Maadi-17' 'Maadi$1'\n",
            " 'Gleem=97' '%66New Cairo' '&86Mohandessin' '%66Gleem' '#Smouha64'\n",
            " '^Smouha4' '=72Gleem' '=27Smouha' '&Maadi20' 'New Cairo=71' '+Maadi16'\n",
            " '%Mohandessin5' 'Dokki!40' '!79Smouha' '$88Mohandessin' '%43New Cairo'\n",
            " '!94Heliopolis' '*New Cairo27' 'Gleem*39' '!Mohandessin41' 'Gleem(69'\n",
            " '@4Mohandessin' 'Heliopolis+86' '-New Cairo46' '$79Dokki' '@97Gleem'\n",
            " '@Dokki19' 'Smouha#4' 'Dokki*92' '!Heliopolis35' '#23Heliopolis'\n",
            " '#74Dokki' 'Dokki@46' 'Heliopolis)9' '(New Cairo67' '!Mohandessin82'\n",
            " '=94Smouha' '-Smouha6' '&Dokki28' '#Maadi46' ')19New Cairo'\n",
            " '+Mohandessin89' 'Dokki&91' '-12Dokki' 'Maadi@78' 'Dokki)78' '!Dokki75'\n",
            " '=93Gleem' 'Heliopolis$1' 'Mohandessin=59' '(13New Cairo' '&Dokki22'\n",
            " 'Mohandessin#42' ')Smouha9' '=New Cairo93' '=Smouha82' ')Mohandessin33'\n",
            " '^Gleem56' '%Dokki29' 'Smouha@12' '=Maadi98' '(1Mohandessin' '*41Gleem'\n",
            " '*66Smouha' '!56Mohandessin' 'Smouha@17' 'Dokki@70' '%Gleem40' 'Dokki^66'\n",
            " 'Mohandessin-25' '(Smouha57' '+44New Cairo' '=56New Cairo'\n",
            " '#2Mohandessin' 'Maadi@18' '@58Smouha' '+1Gleem' '(Dokki18' 'Smouha&0'\n",
            " 'Gleem&16' '+66Mohandessin' '=Dokki52' '+Dokki33' 'Mohandessin&23'\n",
            " '=90Smouha' '%Smouha63' '-21New Cairo' '!Gleem22' 'New Cairo(90'\n",
            " '$99Mohandessin' '-55Gleem' '%68Dokki' ')81New Cairo' 'Gleem!20'\n",
            " '!37Mohandessin' 'New Cairo$93' '=20Gleem' '@Maadi27' '#Mohandessin52'\n",
            " 'Mohandessin#58' '^Gleem49' '!Smouha74' 'Mohandessin_39' 'Smouha-81'\n",
            " '!33Gleem' '-Mohandessin88' ')86Maadi' 'Smouha%80' '+19Mohandessin'\n",
            " '=28Gleem' 'Gleem*66' '*Mohandessin8' 'Maadi=63' '(Smouha50' '&Smouha64'\n",
            " 'New Cairo!13' '*Maadi18' '!New Cairo99' 'Heliopolis$29' '%Mohandessin9'\n",
            " '+84Smouha' '&19New Cairo' '=Smouha87' '(86Gleem' '(33New Cairo'\n",
            " '%Smouha25' 'Smouha$48' '%7Dokki' '(29Gleem' ')70Dokki' ')97New Cairo'\n",
            " 'Mohandessin+1' '&20Maadi' 'Heliopolis%41' 'Gleem#40' '+Smouha21'\n",
            " '_Mohandessin7' '-83Dokki' '_12Mohandessin' 'Gleem*16' '*20Smouha'\n",
            " '%2Gleem' 'New Cairo&58' 'Maadi_44' '*18Gleem' 'Maadi^97' '(Dokki16'\n",
            " '=Smouha67' 'Dokki#73' '^29Dokki' '(New Cairo0' 'Mohandessin%64'\n",
            " '=Dokki98' '&45Heliopolis' 'Gleem(78' '+51New Cairo' 'Dokki#89'\n",
            " 'Maadi^90' '$16Dokki' ')Dokki60' ')Smouha24' '=Maadi65' 'Mohandessin%29'\n",
            " '%Gleem98' '=33Smouha' 'New Cairo^22' '$Maadi31' '-Smouha25'\n",
            " '&Heliopolis52' 'Smouha%3' ')22Smouha' '&86Dokki' '_Dokki81' 'Maadi#6'\n",
            " 'New Cairo*59' 'Mohandessin&74' '+Maadi18' 'Dokki#24' 'Dokki#18'\n",
            " '^32Mohandessin' '(Dokki79' '@Dokki76' '*75Maadi' '-Dokki45' '!89Gleem'\n",
            " '#29Smouha' 'Smouha#3' '_Dokki88' '$12Heliopolis' ')44Dokki' '#47Smouha'\n",
            " '+18Smouha' '_62Smouha' '-New Cairo25' 'Smouha&74' '#89Dokki' 'Smouha(97'\n",
            " '*Heliopolis46' 'New Cairo@60' '@8Gleem' 'Mohandessin@14' ')Dokki14'\n",
            " '$77Smouha' 'Gleem+52' '!Dokki81' '%Gleem24' 'Smouha@39' '(Gleem42'\n",
            " 'Gleem$16' '+56Mohandessin' '+13New Cairo' '%Dokki24' 'Mohandessin=63'\n",
            " '@69Maadi' '#Gleem31' '$Dokki7' '_44Smouha' '*Dokki30' '-84Gleem'\n",
            " '$Smouha87' '#Gleem84' '+New Cairo92' '_Gleem38' '&Smouha41'\n",
            " '%77New Cairo' 'Mohandessin$78' 'New Cairo(99' 'New Cairo^39'\n",
            " 'Mohandessin$9' '^Maadi53' 'Maadi^23' '_73Maadi' '=17Heliopolis'\n",
            " '(Dokki54' '-76Gleem' '@88Gleem' 'New Cairo(79' ')Mohandessin23'\n",
            " '*Gleem53' '+Gleem36' '=Mohandessin8' '_96Mohandessin' '+57Smouha'\n",
            " '=Dokki88' '_Smouha54' '&Mohandessin1' 'Smouha)14' 'New Cairo)88'\n",
            " '$Maadi82' '#Maadi62' 'New Cairo^56' '^Gleem12' 'Gleem$4' '=Smouha70'\n",
            " '$Maadi95' '=Smouha66' 'Dokki+9' '^43Mohandessin' 'Gleem+78'\n",
            " '=Heliopolis95' ')6Smouha' '*20New Cairo' 'Gleem@0' 'Gleem)82'\n",
            " '#Heliopolis65' '*6New Cairo' '(Dokki50' 'Dokki-71' '_Mohandessin91'\n",
            " '*23Smouha' '-New Cairo52']\n",
            "\n",
            "Unique values in Day_of_Week:\n",
            "['WeDnesday' 'tuesDAY' 'SunDay' 'TuesDay' 'Monday' 'saturDAY' 'MoNday'\n",
            " 'FRIDAY' 'SUNDAY' 'friDAY' 'THURSDAY' 'Sunday' 'sunday' 'SuNday'\n",
            " 'Saturday' 'THursday' 'MonDay' 'thursday' 'saturday' 'FriDay' 'WEDNESDAY'\n",
            " 'SaturDay' 'Tuesday' 'Friday' 'FRIday' 'Thursday' 'MONDAY' 'SATURDAY'\n",
            " 'SaTurday' 'wednesday' 'sunDAY' 'monDAY' 'monday' 'WednesDay' 'friday'\n",
            " 'thursDAY' 'wednESDAY' 'Wednesday' 'ThursDay' 'TUESDAY' 'tuesday'\n",
            " 'TuEsday']\n",
            "\n",
            "Unique values in Occupancy_Level:\n",
            "['High' 'Medium' 'Low']\n",
            "\n",
            "Unique values in Appliances_Usage_Level:\n",
            "['Low' 'High' 'Medium']\n"
          ]
        }
      ]
    },
    {
      "cell_type": "markdown",
      "id": "6833ef67",
      "metadata": {
        "id": "6833ef67"
      },
      "source": [
        "## Data Pre-Processing & Cleaning\n",
        "\n",
        "_Apply any data preprocessing and/or feature engineering below. Show/output the changes to the dataset._"
      ]
    },
    {
      "cell_type": "markdown",
      "source": [
        "I converted the  Last_Maintenance_Date column to proper datetime values.  \n",
        "This makes the column consistent and ready for time-related checks.  \n",
        "Invalid dates become NaT, which will be handled in the missing-values step.\n",
        "\n"
      ],
      "metadata": {
        "id": "07EC7uLdghnQ"
      },
      "id": "07EC7uLdghnQ"
    },
    {
      "cell_type": "code",
      "source": [
        "df['Last_Maintenance_Date'] = pd.to_datetime(df['Last_Maintenance_Date'], errors='coerce')\n"
      ],
      "metadata": {
        "id": "sNOETbL-ghFH"
      },
      "id": "sNOETbL-ghFH",
      "execution_count": 19,
      "outputs": []
    },
    {
      "cell_type": "markdown",
      "source": [
        "I cleaned Neighborhood by removing numbers and symbols, leaving only the area name.  \n",
        "Then I standardized the text using title case so the values are consistent and easy to analyze.\n"
      ],
      "metadata": {
        "id": "PWQNtN3YhSld"
      },
      "id": "PWQNtN3YhSld"
    },
    {
      "cell_type": "code",
      "source": [
        "df['Neighborhood'] = (\n",
        "    df['Neighborhood']\n",
        "      .astype(str)\n",
        "      .str.replace(r'[^a-zA-Z ]', '', regex=True)\n",
        "      .str.strip()\n",
        "      .str.title()\n",
        ")\n"
      ],
      "metadata": {
        "id": "oOEam9PjhnR9"
      },
      "id": "oOEam9PjhnR9",
      "execution_count": 20,
      "outputs": []
    },
    {
      "cell_type": "markdown",
      "source": [
        "I unified the Day_of_Week values so all days follow the same format  \n",
        "(e.g., “tuesDAY” and “TUESDAY” both become “Tuesday”).  \n",
        "This avoids duplicate categories caused by different capitalizations.\n"
      ],
      "metadata": {
        "id": "HMNs6qeZh_eY"
      },
      "id": "HMNs6qeZh_eY"
    },
    {
      "cell_type": "code",
      "source": [
        "df['Day_of_Week'] = (\n",
        "    df['Day_of_Week']\n",
        "      .astype(str)\n",
        "      .str.strip()\n",
        "      .str.lower()\n",
        "      .str.capitalize()\n",
        ")\n"
      ],
      "metadata": {
        "id": "dTl4QeHIiFT4"
      },
      "id": "dTl4QeHIiFT4",
      "execution_count": 21,
      "outputs": []
    },
    {
      "cell_type": "markdown",
      "source": [
        "This part of the code is used to clean and fix the numeric columns.  \n",
        "First, it loops through each numerical column like SquareFootage, Average_Temperature, and Energy_Consumption .  \n",
        "It removes any symbols or letters from the values, converts them to numbers, and replaces empty values with NaN.  \n",
        "Then it fills the missing values with the median of each column.  \n",
        "After this step, all the numeric columns become clean numbers that can be used in calculations and modeling without any errors.\n"
      ],
      "metadata": {
        "id": "xvumdOl_iKyG"
      },
      "id": "xvumdOl_iKyG"
    },
    {
      "cell_type": "code",
      "source": [
        "num_cols = ['SquareFootage','Average_Temperature','Energy_Consumption']\n",
        "\n",
        "for c in num_cols:\n",
        "    if c in df.columns:\n",
        "        df[c] = (\n",
        "            df[c]\n",
        "            .astype(str)\n",
        "            .str.replace(r'[^0-9.]', '', regex=True)\n",
        "            .replace('', np.nan)\n",
        "            .astype(float)\n",
        "        )\n",
        "        df[c] = df[c].fillna(df[c].median())\n"
      ],
      "metadata": {
        "id": "BcG_mu2LiSuM"
      },
      "id": "BcG_mu2LiSuM",
      "execution_count": 24,
      "outputs": []
    },
    {
      "cell_type": "markdown",
      "id": "88bdafa3",
      "metadata": {
        "id": "88bdafa3"
      },
      "source": [
        "## Exploratory Data Analysis"
      ]
    },
    {
      "cell_type": "markdown",
      "id": "d41ea6c3",
      "metadata": {
        "id": "d41ea6c3"
      },
      "source": [
        "**Q1:** What are the most popular neighborhoods? plot all and order them on the graph (mention top 3)\n",
        "\n",
        "**Visualization**"
      ]
    },
    {
      "cell_type": "markdown",
      "source": [
        "I counted how many times each neighborhood appears in the dataset  \n",
        "and plotted them in a bar chart sorted from most to least frequent.  \n",
        "The top three neighborhoods with the highest counts are the most popular ones.\n"
      ],
      "metadata": {
        "id": "5SJrFpoEm2rA"
      },
      "id": "5SJrFpoEm2rA"
    },
    {
      "cell_type": "code",
      "execution_count": 25,
      "id": "19156b96",
      "metadata": {
        "id": "19156b96",
        "colab": {
          "base_uri": "https://localhost:8080/",
          "height": 711
        },
        "outputId": "0168420b-6718-40cf-823c-56a62da15d02"
      },
      "outputs": [
        {
          "output_type": "display_data",
          "data": {
            "text/plain": [
              "<Figure size 1200x600 with 1 Axes>"
            ],
            "image/png": "[encoded data removed]"
          },
          "metadata": {}
        },
        {
          "output_type": "stream",
          "name": "stdout",
          "text": [
            "Neighborhood\n",
            "Smouha    199\n",
            "Dokki     194\n",
            "Gleem     189\n",
            "Name: count, dtype: int64\n"
          ]
        }
      ],
      "source": [
        "neigh_counts = df['Neighborhood'].value_counts()\n",
        "\n",
        "plt.figure(figsize=(12,6))\n",
        "neigh_counts.plot(kind='bar')\n",
        "plt.xlabel('Neighborhood')\n",
        "plt.ylabel('Count')\n",
        "plt.title('Neighborhood Popularity')\n",
        "plt.xticks(rotation=45)\n",
        "plt.show()\n",
        "\n",
        "top3 = neigh_counts.head(3)\n",
        "print(top3)\n"
      ]
    },
    {
      "cell_type": "markdown",
      "id": "2e0c8f51",
      "metadata": {
        "id": "2e0c8f51"
      },
      "source": [
        "**Answer for Q1:** _Your answer here_"
      ]
    },
    {
      "cell_type": "markdown",
      "id": "ee97be92",
      "metadata": {
        "id": "ee97be92"
      },
      "source": [
        "**Q2:** Show the distribution of the energy consumption of each Building type.\n",
        "\n",
        "Which type have the widest distribution of energy consumption?\n",
        "\n",
        "Which (on average) has the highest consumption?.\n",
        "\n",
        "**Visualization**"
      ]
    },
    {
      "cell_type": "code",
      "execution_count": null,
      "id": "ec865cd8",
      "metadata": {
        "id": "ec865cd8"
      },
      "outputs": [],
      "source": []
    },
    {
      "cell_type": "markdown",
      "id": "e783cbbf",
      "metadata": {
        "id": "e783cbbf"
      },
      "source": [
        "**Answer for Q2:** _Your answer here_"
      ]
    },
    {
      "cell_type": "markdown",
      "id": "ad9f42b8",
      "metadata": {
        "id": "ad9f42b8"
      },
      "source": [
        "**Q3:** How does the building size affect energy consumption?\n",
        "\n",
        "**Visualization**"
      ]
    },
    {
      "cell_type": "code",
      "execution_count": null,
      "id": "f90a6d0e",
      "metadata": {
        "id": "f90a6d0e"
      },
      "outputs": [],
      "source": []
    },
    {
      "cell_type": "markdown",
      "id": "07eaceac",
      "metadata": {
        "id": "07eaceac"
      },
      "source": [
        "**Answer for Q3:** _Your answer here_"
      ]
    },
    {
      "cell_type": "markdown",
      "id": "2b766c6d",
      "metadata": {
        "id": "2b766c6d"
      },
      "source": [
        "**Q4:** Do buildings consume more energy if not maintained frequently?\n",
        "\n",
        "**Visualization**"
      ]
    },
    {
      "cell_type": "code",
      "execution_count": null,
      "id": "23f83afd",
      "metadata": {
        "id": "23f83afd"
      },
      "outputs": [],
      "source": []
    },
    {
      "cell_type": "markdown",
      "id": "62146aa6",
      "metadata": {
        "id": "62146aa6"
      },
      "source": [
        "**Answer for Q4:** _Your answer here_"
      ]
    },
    {
      "cell_type": "markdown",
      "id": "38ba2b33",
      "metadata": {
        "id": "38ba2b33"
      },
      "source": [
        "**Q5:** Are all the numerical variables normally distributed, or is there any skewness?\n",
        "\n",
        "**Visualization**"
      ]
    },
    {
      "cell_type": "code",
      "execution_count": null,
      "id": "16de46d9",
      "metadata": {
        "id": "16de46d9"
      },
      "outputs": [],
      "source": []
    },
    {
      "cell_type": "markdown",
      "id": "0e6e4dd4",
      "metadata": {
        "id": "0e6e4dd4"
      },
      "source": [
        "**Answer for Q5:** _Your answer here_"
      ]
    },
    {
      "cell_type": "markdown",
      "id": "1f6cf928",
      "metadata": {
        "id": "1f6cf928"
      },
      "source": [
        "**Q6:** What is multicollinearity? And why is it a problem for linear regression? Does this problem exist in this\n",
        "dataset?\n",
        "\n",
        "**Visualization**"
      ]
    },
    {
      "cell_type": "code",
      "execution_count": null,
      "id": "c099e907",
      "metadata": {
        "id": "c099e907"
      },
      "outputs": [],
      "source": []
    },
    {
      "cell_type": "markdown",
      "id": "f6f89b0e",
      "metadata": {
        "id": "f6f89b0e"
      },
      "source": [
        "**Answer for Q6:** _Your answer here_"
      ]
    },
    {
      "cell_type": "markdown",
      "id": "aecd76ce",
      "metadata": {
        "id": "aecd76ce"
      },
      "source": [
        "## Data Preparation for Modelling\n",
        "\n",
        "_Apply any additional data preparation steps needed before modelling below. Show/output the changes to the dataset._"
      ]
    },
    {
      "cell_type": "code",
      "execution_count": null,
      "id": "8e373980",
      "metadata": {
        "id": "8e373980"
      },
      "outputs": [],
      "source": []
    },
    {
      "cell_type": "markdown",
      "id": "ef043cf5",
      "metadata": {
        "id": "ef043cf5"
      },
      "source": [
        "## Modelling\n",
        "\n",
        "_Apply the linear regression model below._"
      ]
    },
    {
      "cell_type": "code",
      "execution_count": null,
      "id": "f1661863",
      "metadata": {
        "id": "f1661863"
      },
      "outputs": [],
      "source": []
    },
    {
      "cell_type": "markdown",
      "id": "5ab2de19",
      "metadata": {
        "id": "5ab2de19"
      },
      "source": [
        "## Model Evaluation\n",
        "\n",
        "Evaluate the model you applied."
      ]
    },
    {
      "cell_type": "code",
      "execution_count": null,
      "id": "7612d8c7",
      "metadata": {
        "id": "7612d8c7"
      },
      "outputs": [],
      "source": []
    },
    {
      "cell_type": "markdown",
      "id": "19ba6f5f",
      "metadata": {
        "id": "19ba6f5f"
      },
      "source": [
        "## Conclusion and Recommendations\n",
        "\n",
        "Comment on the model performance and your findings from model evaluation. State the problems (if any) and suggest possible solutions. Would you recommend this model for an electrcity company aiming to estimate the energy levels of each building?\n",
        "\n",
        "**Answer**: your answer here."
      ]
    },
    {
      "cell_type": "code",
      "execution_count": null,
      "id": "3ad31ed1-1535-40c3-b192-1468219fd9c0",
      "metadata": {
        "id": "3ad31ed1-1535-40c3-b192-1468219fd9c0"
      },
      "outputs": [],
      "source": []
    }
  ],
  "metadata": {
    "colab": {
      "provenance": []
    },
    "kernelspec": {
      "display_name": "Python 3 (ipykernel)",
      "language": "python",
      "name": "python3"
    },
    "language_info": {
      "codemirror_mode": {
        "name": "ipython",
        "version": 3
      },
      "file_extension": ".py",
      "mimetype": "text/x-python",
      "name": "python",
      "nbconvert_exporter": "python",
      "pygments_lexer": "ipython3",
      "version": "3.13.5"
    }
  },
  "nbformat": 4,
  "nbformat_minor": 5
}